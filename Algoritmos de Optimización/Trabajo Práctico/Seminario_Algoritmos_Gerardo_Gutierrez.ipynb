{
  "nbformat": 4,
  "nbformat_minor": 5,
  "metadata": {
    "kernelspec": {
      "display_name": "Python 3 (ipykernel)",
      "language": "python",
      "name": "python3"
    },
    "language_info": {
      "codemirror_mode": {
        "name": "ipython",
        "version": 3
      },
      "file_extension": ".py",
      "mimetype": "text/x-python",
      "name": "python",
      "nbconvert_exporter": "python",
      "pygments_lexer": "ipython3",
      "version": "3.9.5"
    },
    "colab": {
      "name": "Seminario_Algoritmos_Gerardo_Gutierrez.ipynb",
      "provenance": [],
      "collapsed_sections": [
        "7f9cae89",
        "d3dd10eb",
        "r308UcdC_bKE",
        "gjB5KspJhOIz",
        "FZdKkmhyA-Yk",
        "f45Cq0vkERem",
        "Jm6PJkVtE803",
        "UQwd6qFuFCMh"
      ]
    }
  },
  "cells": [
    {
      "cell_type": "markdown",
      "metadata": {
        "id": "7f9cae89"
      },
      "source": [
        "## **Algoritmos de Optimización - Seminario**\n",
        "\n",
        "- **Nombres y Appellidos:** Gerardo Mauricio Gutiérrez Quintana\n",
        "- **URL Github:** \n",
        "- **URL Colab:** https://colab.research.google.com/drive/1PCJGt-fesQ_SY7kcH9T0RVmNIVrfh6LE?usp=sharing\n",
        "\n",
        "\n",
        "## **Problema** \n",
        "\n",
        "### **1. Sesiones de Doblaje**\n",
        "\n",
        "Se precisa coordinar el doblaje de una película. Los actores del doblaje deben coincidir en las tomas en las que sus personajes aparecen juntos en las diferentes tomas. Los actores de doblaje cobran todos la misma cantidad por cada día que deben desplazarse hasta el estudio de grabación independientemente del número de tomas que se graben. No es posible grabar más de 6 tomas por día. El objetivo es planificar las sesiones por día de manera que el gasto por los servicios de los actores de doblaje sea el menor posible. Los datos son:\n",
        "\n",
        "- Número de actores: 10\n",
        "- Número de tomas: 30 \n",
        "- Actores/Tomas: https://bit.ly/36D8IuK\n",
        "- 1 indica que el actor participa en la toma \n",
        "- 0 indica el caso contrario"
      ],
      "id": "7f9cae89"
    },
    {
      "cell_type": "markdown",
      "metadata": {
        "id": "d3dd10eb"
      },
      "source": [
        "## **¿Cuantas posibilidades hay sin tener en cuenta las restricciones?**\n",
        "\n",
        "Sin tomar en cuenta las restricciones de este problema (no es posible grabar más de 6 tomas por día), podemos decir que la solución al problema sería grabar las 30 tomas en un solo día. De esta manera ya que todos los actores cobran la misma cantidad por día, al grabar todas sus tomas en un solo día el costo total de las sesiones de doblaje sería el total de actores involucrados.\n",
        "\n",
        "Podríamos decir también que ya que todas las tomas serán grabadas en un solo día, el orden de estas sería irrelevante, pues los actores cobran por día de trabajo y no por toma. Por lo tanto, ya que independientemente del orden de tomas los actores grabaran en un solo día y las tomas no son repetidas, disponemos de $n = 30! \\approx 2.6525 e^{32}$ posibles combinaciones, recordando que costo siempre será el mismo."
      ],
      "id": "d3dd10eb"
    },
    {
      "cell_type": "markdown",
      "metadata": {
        "id": "r308UcdC_bKE"
      },
      "source": [
        "## **¿Cuantas posibilidades hay sin tener en cuenta las restricciones?**\n",
        "\n",
        "Ahora, tomando en cuenta la restricción de que no es posible grabar más de 6 tomas por día el problema cambia, ya que tendremos que dividir las 30 tomas en 5 sesiones para poder respetar la restricción. Tenemos que considerar que las tomas no pueden repetirse en diferentes sesiones, es decir, aunque el orden en que son elegidas no importa, una vez que hayamos asignado una toma en específico a una sesión, esta no podrá aparecer en otras sesiones.\n",
        "\n",
        "Tomando en cuenta lo anterior, podemos decir que cada sesión tendrá un número $m$ de tomas disponibles que podrán ser acomodadas de $m!$ maneras, y dado que para cada sesión no podrán haber tomas repetidas y el orden de estas es irrelevante, podemos modelar la cantidad de tomas para cada sesión como:\n",
        "\n",
        "$$C_{mk} = \\begin{pmatrix} {m \\ k} \\end{pmatrix} = \\frac{m!}{k!\\cdot(m - k)!}  $$\n",
        "\n",
        "\n",
        "donde la cantidad disponible para cada sesión será una combinatoria sin repetición de las tomas dispoinlbles. Para cada sesión tendremos un total $m$ de tomas disponibles, donde $m = n - k$, $n$ siendo el total de tomas diponibles por cada iteración y $k$ el máximo de tomas disponibles por sesión (6).\n",
        "\n",
        "Una vez que ya hemos obtenido el modelado de las posibilidades para una sesión en específico, podemos obtener el total de combinaciones posibles haciendo el productorio de las diferentes sesiones:\n",
        "\n",
        "\n",
        "$$C_{mk} = \\frac{30!}{6!\\cdot(30 - 6)!} \\cdot \\frac{24!}{6!\\cdot(24 - 6)!} \\cdot \\frac{18!}{6!\\cdot(18 - 6)!} \\cdot \\frac{12!}{6!\\cdot(12 - 6)!} \\cdot\\frac{6!}{6!\\cdot(6 - 6)!}$$\n",
        "\n",
        "\n",
        "$$C_{mk} \\approx 1.370874 e^{18}$$\n",
        "\n",
        "\n",
        "Por ultimo, tenemos que tomar en cuenta que existen diferentes maneras de ordenar las diferentes sesiones obtenidas. Concretamente se trata de un caso de permutación sin repetición. Por lo tanto, para obtener el resultado final del total de probabilidades tomando en cuenta las $n!$ posibles permutaciones sin repetición de las sesiones, habrá que dividir el resultado anteriormente obtenido entre las $n!$ posibles permutaciones sin repetición:\n",
        "\n",
        "\n",
        "$$C_{mk} \\approx \\frac{1.370874 e^{18}}{n!}$$\n",
        "\n",
        "\n",
        "\n",
        "Tomando en cuenta la restricción de no poder grabar más de 6 tomas por día y que son 30 tomas en total, diremos que: \n",
        "\n",
        "$$ n = \\frac{tomas}{restriccion} $$\n",
        "\n",
        "\n",
        "obteniendo el resultado de final de:\n",
        "\n",
        "\n",
        "$$C_{mk} \\approx \\frac{1.370874 e^{18}}{5!} \\approx 1.142395 e^{16} $$"
      ],
      "id": "r308UcdC_bKE"
    },
    {
      "cell_type": "markdown",
      "metadata": {
        "id": "gjB5KspJhOIz"
      },
      "source": [
        "## **Modelo para el espacio de soluciones**\n",
        "## **¿Cual es la estructura de datos que mejor se adapta al problema?**\n",
        "\n",
        "Ya que es un problema iterativo donde tendremos que iterar a través de todo el espacio de soluciones posibles, pienso que la estructura de datos más conveniente para este tipo de problemas es un array dinámico en donde guardemos el número de la toma y los actores involucrados en la toma:\n",
        "\n",
        "\n",
        "$$Tomas = \\begin{pmatrix} [0, actores] \\\\ [1, actores] \\\\ [2, actores] \\\\ .......... \\\\ .......... \\\\ .......... \\\\ [n, actores] \\end{pmatrix} $$\n",
        "\n",
        "\n",
        "\n",
        "Intuitivamente podríamos decir que un diccionario sería la mejor estructura de datos por su rápido acceso, sin embargo tenemos que tomar en cuenta que dado que cada sesión debe de tener tomas no repetidas para calcular todas las posibilidades, un array dinámico nos trae más beneficios para un problema de esta magnitud. \n",
        "\n",
        "Decimos que será un array dinámico ya que una vez que hayams obtenido el máximo número de tomas permitido para cada sesión, podemos eliminar estas tomas del array original para ya no considerarlas. He propuesto guardar el indíce original y las tomas en conjunto por que al ser un array dinámico, queremos guardar el número de la toma original independiemente de las tomas eliminadas. \n",
        "\n",
        "Por último, ya que el orden de las tomas no importa, un array que guarde esta información nos será de mucha ayuda, ya que no buscamos una toma en particular y no es necesario que las tomas estén ordenadas.\n",
        "\n",
        "\n"
      ],
      "id": "gjB5KspJhOIz"
    },
    {
      "cell_type": "markdown",
      "metadata": {
        "id": "FZdKkmhyA-Yk"
      },
      "source": [
        "## **Según el modelo para el espacio de soluciones**\n",
        "\n",
        "**¿Cual es la función objetivo?** \n",
        "\n",
        "Como mencionamos anteriormente, si tomamos en cuenta la restricción de que solamente se pueden realizar 6 tomas por día, y además considerando que todos los actores cobran por día y no por toma, podemos decir que nuestra función objetivo es aquella en la que se sumen el total de actores involucrados por cada día de trabajo.\n",
        "\n",
        "Diremos que nuestra función objetivo será:\n",
        "\n",
        "\n",
        "$$ f(s) = \\sum_{i=0}^{m/n} len(\\vec{Actores}) $$\n",
        "\n",
        "\n",
        "Dicho de otra manera, será la sumatoria desde $i = 1$ hasta $m/n$ donde $m$ es el número total de tomas y $n$ es el máximo número de tomas por día, de la longitud del vector $actores$. Este vector será un array donde guardaremos todos los actores involucrados en la sesión de trabajo."
      ],
      "id": "FZdKkmhyA-Yk"
    },
    {
      "cell_type": "markdown",
      "metadata": {
        "id": "f45Cq0vkERem"
      },
      "source": [
        "## **¿Es un problema de maximización o minimización?**\n",
        "\n",
        "Podemos decir que es un problema de minimización, ya que el objetivo de nuestro problema es minimizar la cantidad de actores participantes por cada día de trabajo para de esta manera, minimizar el costo total."
      ],
      "id": "f45Cq0vkERem"
    },
    {
      "cell_type": "markdown",
      "metadata": {
        "id": "npeTQv4gEtMd"
      },
      "source": [
        "## **Diseña un algoritmo para resolver el problema por fuerza bruta**\n",
        "\n",
        "El algoritmo por fuerza bruta propuesto estaría basado en las $n!$ permutaciones posibles que hay de las n tomas. Lo que se busca es obtener las $n!$ posibles permutaciones de las tomas, y para cada $n$ numero de tomas, calcular el precio para cada sesión según las restricciones del problema.\n",
        "\n",
        "Lo que haremos será obtener las permutaciones posibles de las $n$ tomas, iterar desde 0 hasta $n!$, dividir las $n!$ permutaciones en conjuntos iguales de $n$ tomas, calcular el costo parcial para cada sesión desde 0 hasta $m$ donde $m$ es el máximo de tomas permitido por sesión y obtener el costo total. \n",
        "\n",
        "Diremos que se ha encontrado una solución optima donde se minimice el costo total si una solucion parcial tiene un costo menor al actual costo total.\n",
        "\n",
        "Con el objetivo de probar nuestro algoritmo por fuerza bruta, reduciremos el problema original de 30 tomas a 7, ya que aunque es un problema de menor tamaño, podemos demostrar que se encuentra una solución donde se minimice el costo."
      ],
      "id": "npeTQv4gEtMd"
    },
    {
      "cell_type": "code",
      "metadata": {
        "colab": {
          "base_uri": "https://localhost:8080/"
        },
        "id": "yvoO2C91ceMY",
        "outputId": "7317d9f8-93d8-4090-c87f-bfd4169b2945"
      },
      "source": [
        "import math\n",
        "import itertools\n",
        "\n",
        "tomas = [\n",
        "    [1,1,1,1,1,0,0,0,0,0],\n",
        "    [0,0,1,1,1,0,0,0,0,0],\n",
        "    [0,1,0,0,1,0,1,0,0,0],\n",
        "    [1,1,0,0,0,0,1,1,0,0],\n",
        "    [0,1,0,1,0,0,0,1,0,0],\n",
        "    [1,1,0,1,1,0,0,0,0,0],\n",
        "    [1,1,0,1,1,0,0,0,0,0]\n",
        "]\n",
        "\n",
        "maximo_tomas = 6\n",
        "numero_actores = len(tomas[0])\n",
        "\n",
        "optimo = math.ceil(len(tomas) / maximo_tomas)\n",
        "\n",
        "tomas_nuevas = []\n",
        "for i in range(len(tomas)):\n",
        "    tomas_nuevas.append([i, tomas[i]])\n",
        "\n",
        "permutations_tomas = list(itertools.permutations(tomas_nuevas))\n",
        "\n",
        "sesiones = dict()\n",
        "solucion = dict()\n",
        "costo_solucion = 9999\n",
        "peor_costo = 0\n",
        "\n",
        "for i in range(optimo):\n",
        "    sesiones[i] = 9999\n",
        "    solucion[i] = 0\n",
        "\n",
        "for i in range(len(permutations_tomas)):\n",
        "    dia = 0\n",
        "    sesion = 0\n",
        "    actores = set()\n",
        "    costo_parcial = 0\n",
        "    tomas_id = []\n",
        "    for j in range(len(tomas)):\n",
        "        tomas_id.append(permutations_tomas[i][j][0])\n",
        "        for k in range(len(permutations_tomas[i][j][1])):\n",
        "            if permutations_tomas[i][j][1][k] == 1:\n",
        "                actores.add(k)\n",
        "        \n",
        "        dia += 1\n",
        "        if dia == maximo_tomas or j == len(tomas)-1:\n",
        "            sesiones[sesion] = tomas_id.copy()\n",
        "            costo_parcial += len(actores)\n",
        "            actores.clear()\n",
        "            tomas_id.clear()\n",
        "            sesion += 1\n",
        "            dia = 0\n",
        "    \n",
        "    if costo_parcial > peor_costo:\n",
        "      peor_costo = costo_parcial\n",
        "    \n",
        "    if costo_parcial < costo_solucion:\n",
        "        for i in range(len(sesiones)):\n",
        "            solucion[i] = sesiones[i]\n",
        "\n",
        "        costo_solucion = costo_parcial\n",
        "\n",
        "print(f'Peor costo total: {peor_costo}')\n",
        "print(f'Mejor costo total: {costo_solucion}')\n",
        "print(solucion)"
      ],
      "id": "yvoO2C91ceMY",
      "execution_count": 16,
      "outputs": [
        {
          "output_type": "stream",
          "text": [
            "Peor costo total: 12\n",
            "Mejor costo total: 10\n",
            "{0: [0, 1, 2, 3, 5, 6], 1: [4]}\n"
          ],
          "name": "stdout"
        }
      ]
    },
    {
      "cell_type": "markdown",
      "metadata": {
        "id": "CMo_YqhMgvfQ"
      },
      "source": [
        "Podemos decir que con el problema propuesto y reduciendo la cantidad de tomas de 30 a 7, en el peor de los casos el costo total sería de 12 y en el mejor de los casos, el costo total sería de 10."
      ],
      "id": "CMo_YqhMgvfQ"
    },
    {
      "cell_type": "markdown",
      "metadata": {
        "id": "Jm6PJkVtE803"
      },
      "source": [
        "## **Calcula la complejidad del algoritmo por fuerza bruta**\n",
        "\n",
        "Podemos decir que la complejidad del algoritmo por fuerza bruta propuesto tiene una compejidad de $O(n!)$ ya que iteramos como tantas permutaciones posibles haya de nuestro problema inicial. "
      ],
      "id": "Jm6PJkVtE803"
    },
    {
      "cell_type": "markdown",
      "metadata": {
        "id": "UQwd6qFuFCMh"
      },
      "source": [
        "## **Diseña un algoritmo que mejore la complejidad del algortimo por fuerza bruta. Argumenta porque crees que mejora el algoritmo por fuerza bruta**\n",
        "\n",
        "Al tratarse de un problema de combinatorias, nuestro objetivo será el de reducir este factor para obtener de una manera aproximada la planificación optima de las tomas para cada día de trabajo. \n",
        "\n",
        "Ya que se trata de un problema de minimización de costos, en la planificación final se buscará agrupar la mayor cantidad posbile de tomas dadas las restricciones donde en cada día la variación entre artistas participantes sea la menor posible. \n",
        "\n",
        "Tomando en cuenta que unos artistas participan en más tomas que otros, podemos ordenar las tomas de manera que daremos prioridad a las tomas donde aparezcan la mayor cantidad de artistas. Una vez ordenadas las tomas, tomaremos la primera toma con más artistas y a partir de esta comenzaremos a encontrar las tomas con más coincidencias, reduciendo en cada iteración las tomas disponibles. De esta manera, lograremos reducir el número de combinatorias necesarias.\n",
        "\n",
        "Al agrupar las tomas con mayor cantidad de coincidencia de artistas, en cada iteración reduciremos los artistas participantes, dejando al final las tomas donde aparecen los artistas con menor cantidad de participaciones. Al reducir la variabilidad de artistas por días de trabajo y de mayor a menor participación, nos aseguramos minimizar costos evitando que todos los artistas aparezcan al menos una vez en todos los días de trabajo.\n",
        "\n",
        "Podría decirse que el algoritmo propuesto es una especie de algoritmo voraz donde dependiendo del número de artistas y variaciones calculadas de artistas por toma, iremos agrupando tomas y reduciendo posibilidades."
      ],
      "id": "UQwd6qFuFCMh"
    },
    {
      "cell_type": "markdown",
      "metadata": {
        "id": "GjRB30GFL3xi"
      },
      "source": [
        "## **Algoritmo propuesto**"
      ],
      "id": "GjRB30GFL3xi"
    },
    {
      "cell_type": "code",
      "metadata": {
        "colab": {
          "base_uri": "https://localhost:8080/"
        },
        "id": "0iZ6-plbMUYs",
        "outputId": "eeb5a5ce-ea15-4ad7-823a-bc3348c52e47"
      },
      "source": [
        "import math\n",
        "import operator\n",
        "import numpy as np\n",
        "\n",
        "\n",
        "tomas = [\n",
        "    [1,1,1,1,1,0,0,0,0,0],\n",
        "    [0,0,1,1,1,0,0,0,0,0],\n",
        "    [0,1,0,0,1,0,1,0,0,0],\n",
        "    [1,1,0,0,0,0,1,1,0,0],\n",
        "    [0,1,0,1,0,0,0,1,0,0],\n",
        "    [1,1,0,1,1,0,0,0,0,0],\n",
        "    [1,1,0,1,1,0,0,0,0,0],\n",
        "    [1,1,0,0,0,1,0,0,0,0],\n",
        "    [1,1,0,1,0,0,0,0,0,0],\n",
        "    [1,1,0,0,0,1,0,0,1,0],\n",
        "    [1,1,1,0,1,0,0,1,0,0],\n",
        "    [1,1,1,1,0,1,0,0,0,0],\n",
        "    [1,0,0,1,1,0,0,0,0,0],\n",
        "    [1,0,1,0,0,1,0,0,0,0],\n",
        "    [1,1,0,0,0,0,1,0,0,0],\n",
        "    [0,0,0,1,0,0,0,0,0,1],\n",
        "    [1,0,1,0,0,0,0,0,0,0],\n",
        "    [0,0,1,0,0,1,0,0,0,0],\n",
        "    [1,0,1,0,0,0,0,0,0,0],\n",
        "    [1,0,1,1,1,0,0,0,0,0],\n",
        "    [0,0,0,0,0,1,0,1,0,0],\n",
        "    [1,1,1,1,0,0,0,0,0,0],\n",
        "    [1,0,1,0,0,0,0,0,0,0],\n",
        "    [0,0,1,0,0,1,0,0,0,0],\n",
        "    [1,1,0,1,0,0,0,0,0,1],\n",
        "    [1,0,1,0,1,0,0,0,1,0],\n",
        "    [0,0,0,1,1,0,0,0,0,0],\n",
        "    [1,0,0,1,0,0,0,0,0,0],\n",
        "    [1,0,0,0,1,1,0,0,0,0],\n",
        "    [1,0,0,1,0,0,0,0,0,0]\n",
        "]\n",
        "\n",
        "\n",
        "def get_tomas_parecidas(tomas_decimal, toma_objetivo, tomas):\n",
        "    \"\"\"\n",
        "    Obtener las tomas parecidas para cada toma objetivo\n",
        "    \n",
        "    tomas_decimal:  array que contiene las tomas ordenadas por numero de actores y valor decimal de la toma.\n",
        "                    [numero de actores en la toma, valor de la toma en decimal, indice en el array tomas original]               \n",
        "\n",
        "    toma_objetivo:  toma con el mayor numero de actores que usaremos para comparar con las demas tomas\n",
        "                    [numero de actores en la toma, valor de la toma en decimal, indice en el array tomas original]\n",
        "\n",
        "    tomas:  matriz que contiene todas las tomas originales representadas en una matriz de 1's y 0's\n",
        "\n",
        "    \"\"\"\n",
        "\n",
        "    # Diccionario para guardar las tomas por parecido ordenadas de mayor a menor\n",
        "    tomas_por_parecido = {}\n",
        "    parecidos = []\n",
        "\n",
        "    # iteramos a traves de la toma objetivo como tantos actores tenga\n",
        "    # Con esto determinaremos los niveles de coincidencia por toma objetivo\n",
        "    # Supongamos el siguiente ejemplo de toma objetivo: 11110000\n",
        "    # diremos que la toma objetivo podra tener niveles de coincidencia de 0, 1, 2, 3\n",
        "    for i in range(toma_objetivo[0]):\n",
        "        tomas_por_parecido[i] = []\n",
        "        if i not in parecidos:\n",
        "            parecidos.append(i)\n",
        "\n",
        "    # Iteramos como tantas tomas haya en el array de tomas representadas en valor decimal\n",
        "    for i in range(len(tomas_decimal)):\n",
        "        # Hacemos la operacion logica OR entre la toma objetivo y cada toma del array\n",
        "        # para determinar los todos actores involucrados entre la toma objetivo y una toma\n",
        "        temp = tomas[toma_objetivo[2]] | tomas[tomas_decimal[i][2]]\n",
        "        # para determinar el nivel de coincidencia hacemos una resta de los actores involucrados\n",
        "        # entre la toma objetivo y cada una de las otras tomas\n",
        "        parecido = abs(len(tomas[toma_objetivo[2]][tomas[toma_objetivo[2]] == 1]) - len(temp[temp == 1]))\n",
        "        # guardamos la toma en el diccionario dependiendo de su nivel de coincidencia con la toma objetivo\n",
        "        tomas_por_parecido[parecido].append([tomas_decimal[i][2], i])\n",
        "    \n",
        "    return tomas_por_parecido, parecidos\n",
        "\n",
        "def get_tomas_planificadas(tomas):\n",
        "    \"\"\"\n",
        "    Obtener la planificacion de las tomas para optimizar el costo total\n",
        "    \"\"\"\n",
        "\n",
        "    tomas_decimal = []\n",
        "    tomas = np.array(tomas)\n",
        "\n",
        "    # Convertimos las tomas a su valor decimal, y la ordenamos de mayor a menor.\n",
        "    # Regresamos un array con la siguiente estructura: \n",
        "    # [cantidad de 1's en la toma, toma convertida de binario a decimal, indice original de la toma]\n",
        "    for i in range(len(tomas)):\n",
        "        my_string = ''.join(map(str, tomas[i]))\n",
        "        tomas_decimal.append([len(tomas[i][tomas[i] == 1]), int(my_string, 2), i])\n",
        "    \n",
        "    tomas_decimal = sorted(tomas_decimal, key=operator.itemgetter(0, 1), reverse=True)\n",
        "\n",
        "    \n",
        "    solucion_final = {}\n",
        "    maximo_tomas = 6\n",
        "    index_delete = []\n",
        "    optimo = math.ceil(len(tomas) / maximo_tomas)\n",
        "    costo_total = 0\n",
        "    dia = 0\n",
        "\n",
        "    # Inicializar el diccionario que tendra la solucion final\n",
        "    # El diccionario tendra como llave el optimo numero de dias para cubrir todas las tomas\n",
        "    for i in range(optimo):\n",
        "        solucion_final[i] = []\n",
        "\n",
        "    # Iteramos mientras haya tomas en el array secundario tomas decimal\n",
        "    while len(tomas_decimal) > 0:\n",
        "        index_delete = []\n",
        "\n",
        "        # La toma solucion sera la toma con el mayor numero de actores por cada iteracion\n",
        "        toma_solucion = tomas_decimal[0]\n",
        "        # Obtenemos las tomas que son parecidas para cada toma solucion en forma de un diccionario\n",
        "        # Este diccionario vendra ordenado de mayor coincidencia a menor coincidencia\n",
        "        solucion_parcial, llaves = get_tomas_parecidas(tomas_decimal, toma_solucion, tomas)\n",
        "        index = 0\n",
        "        actores = set()\n",
        "        # Iteramos hasta el maxim de tomas permitido por dia\n",
        "        for i in range(maximo_tomas):\n",
        "            while (index in llaves) and (len(solucion_parcial[index]) == 0):\n",
        "                index += 1\n",
        "\n",
        "            # Sacamos cada toma de mayor a menor coincidencia\n",
        "            # En caso de que ya no se puedan obtener más tomas y hayamos llegado al final del diccionario de coincidencias,\n",
        "            # quiere decir que ya no hay más tomas y terminamos este ciclo\n",
        "            try:\n",
        "                j = solucion_parcial[index].pop(0)\n",
        "            except:\n",
        "                break\n",
        "\n",
        "            # Guardamos los indices que seran eliminados del array que contiene las tomas convertidas a valor decimal\n",
        "            index_delete.append(j[1])\n",
        "            # Guardamos cada toma en el diccionario que contiene la solucion final\n",
        "            solucion_final[dia].append(j[0])\n",
        "\n",
        "            # Iteramos a traves de cada toma para obtener los actores involucrados por cada toma\n",
        "            for i in range(len(tomas[j[0]])):\n",
        "                if tomas[j[0]][i] == 1:\n",
        "                    actores.add(i+1)\n",
        "    \n",
        "        \n",
        "        # Eliminamos las tomas que ya han sido utilizadas para la solucion parcial pues ya no sera consideradas\n",
        "        tomas_decimal = np.delete(tomas_decimal, tuple(index_delete), axis=0)\n",
        "        # Calculamos el costo total contando el numero de actores por cada sesion\n",
        "        costo_total += len(actores)\n",
        "        print(f'Tomas para la sesión del día {dia+1}: {solucion_final[dia]}')\n",
        "        print(f'Costo del día {dia+1}: {len(actores)}\\n')\n",
        "        dia += 1\n",
        "\n",
        "    print(f'El costo total sera: {costo_total}')\n",
        "\n",
        "get_tomas_planificadas(tomas)"
      ],
      "id": "0iZ6-plbMUYs",
      "execution_count": 3,
      "outputs": [
        {
          "output_type": "stream",
          "text": [
            "Tomas para la sesión del día 1: [0, 21, 5, 6, 19, 8]\n",
            "Costo del día 1: 5\n",
            "\n",
            "Tomas para la sesión del día 2: [11, 7, 13, 16, 18, 22]\n",
            "Costo del día 2: 5\n",
            "\n",
            "Tomas para la sesión del día 3: [10, 3, 25, 14, 12, 28]\n",
            "Costo del día 3: 9\n",
            "\n",
            "Tomas para la sesión del día 4: [24, 27, 29, 15, 4, 26]\n",
            "Costo del día 4: 6\n",
            "\n",
            "Tomas para la sesión del día 5: [9, 17, 23, 20, 2, 1]\n",
            "Costo del día 5: 9\n",
            "\n",
            "El costo total sera: 34\n"
          ],
          "name": "stdout"
        }
      ]
    },
    {
      "cell_type": "markdown",
      "metadata": {
        "id": "PMGvZNeaNSUa"
      },
      "source": [
        "## **Calcula la complejidad del algoritmo**\n",
        "\n",
        "**Función get_tomas_planificadas():** \n",
        "\n",
        "Primero recibimos el array de tomas e iteramos a traves de todo el array para tomar las tomas, convertirlas a un valor decimal y guardarlas en otro array. Esta es una operación que solamente la realizamos una vez y que tiene una complejidad de $O(n)$ donde $n$ es el tamaño del array.\n",
        "\n",
        "Una vez que hemos terminado de iterar a través de todo el array y obtenemos el array secundario, haremos un sort de este array para ordenar las tomas de mayor número de actores a menor número de actores participantes. La función sort de Python tiene una complejidad de $O(n \\cdot Log \\cdot n)$ tanto para el peor caso como para cualquier otro caso.\n",
        "\n",
        "Después de ordenar las tomas e inicializar la estructura de datos que guardara la solución final, haremos un ciclo While donde iteraremos como tantas tomas queden disponibles en el array donde guardamos las tomas ordenadas. Ya que este es un array dinámico que irá reduciendo su tamaño conforme vamos llenando sesiones, podemos decir que este ciclo tendrá una complejidad de $O(m/n)$ donde $m$ es el número de tomas totales y $n$ es el máximo número de tomas disponibles por día. Sin embargo, ya que dentro del ciclo while iteramos desde $0$ hasta $n$ donde n es el máximo número de tomas disponibles por día, y despreciando ciclos internos de menor complejidad, podemos decir que esta función tendrá una complejidad de $O(m)$ lineal por lo siguiente:\n",
        "\n",
        "- complejidad ciclo while: \n",
        "\n",
        "$$ O(m/n) $$\n",
        "\n",
        "- complejidad del ciclo interno while:\n",
        "\n",
        "$$ O(n) $$\n",
        "\n",
        "\n",
        "- Multiplicación de ambas complejidades:\n",
        "\n",
        "$$ O(m/n) \\cdot O(n) = O(m)$$\n",
        "\n",
        "donde $m$ es el tamaño del array tomas, o el número de tomas total.\n",
        "\n",
        "\n",
        "**Función get_tomas_parecidas():**\n",
        "- En la función get_tomas_parecidas tenemos dos ciclos for, sin embargo, ambos tienen una complejidad constante de $O(n)$ menor a la complejidad de la función la función get_tomas_planificadas, por lo tanto, estas complejidades son despreciables.\n",
        "\n",
        "\n",
        "Podemos concluir que nuestro algoritmo tendrá una complejidad de $O(n \\cdot Log \\cdot n)$ donde $n$ será la cantidad de tomas total. Esto debido a que utilizamos un sort para ordenar el array de tomas inicial y a partir un array ordenado, resolvemos el problema."
      ],
      "id": "PMGvZNeaNSUa"
    },
    {
      "cell_type": "markdown",
      "metadata": {
        "id": "j-E9VX2adC4T"
      },
      "source": [
        "## **Según el problema (y tenga sentido), diseña un juego de datos de entrada aleatorios**\n",
        "\n",
        "Para poner a prueba nuestro algoritmo, haremos una matriz aleatoria que contenga valores entre 0 y 1 usando la librería de numpy.\n"
      ],
      "id": "j-E9VX2adC4T"
    },
    {
      "cell_type": "code",
      "metadata": {
        "id": "50Le6zsXlygh"
      },
      "source": [
        "import numpy as np\n",
        "\n",
        "\n",
        "def generar_random(cota_1, cota_2= None):\n",
        "  \"\"\"\n",
        "  Funcion para generar numeros aleatorios\n",
        "  \"\"\"\n",
        "  numero_aleatorio = 0\n",
        "  if cota_2:\n",
        "    numero_aleatorio = np.random.randint(cota_1, cota_2)\n",
        "  else:\n",
        "    numero_aleatorio = np.random.randint(cota_1)\n",
        "  \n",
        "  return numero_aleatorio\n",
        "\n",
        "def generar_tomas_aleatorias():\n",
        "  \"\"\"\n",
        "  Funcion para generar una matriz de datos aleatorios\n",
        "  \"\"\"\n",
        "  # Variable para obtener un numero random de actores en un rango entre 10 y 20\n",
        "  actores_random = generar_random(10, 20)\n",
        "\n",
        "  # Variable para obtener un numero random de tomas en un rango entre 6 y 30\n",
        "  numero_tomas = generar_random(6, 30)\n",
        "\n",
        "  # Array para guardar las tomas finales\n",
        "  tomas_random = []\n",
        "\n",
        "  # Iteramos como tantas tomas haya\n",
        "  for i in range(numero_tomas):\n",
        "    # Array para guardar los actores por cada toma\n",
        "    actores_por_toma = []\n",
        "    # Generamos aleatoriamente los actores para cada toma\n",
        "    for i in range(actores_random):\n",
        "      actores_por_toma.append(generar_random(2)) \n",
        "    \n",
        "    # Para agregar aleatoridad, hacemos un shuffle al array de la toma\n",
        "    np.random.shuffle(actores_por_toma)\n",
        "    # Agregamos la toma al array tomas\n",
        "    tomas_random.append(actores_por_toma)\n",
        "\n",
        "  return tomas_random"
      ],
      "id": "50Le6zsXlygh",
      "execution_count": 4,
      "outputs": []
    },
    {
      "cell_type": "markdown",
      "metadata": {
        "id": "9zfhiyGCwtOo"
      },
      "source": [
        "# **Aplica el algoritmo al juego de datos generado**"
      ],
      "id": "9zfhiyGCwtOo"
    },
    {
      "cell_type": "code",
      "metadata": {
        "colab": {
          "base_uri": "https://localhost:8080/"
        },
        "id": "JzDdPzQ8w6WE",
        "outputId": "02f5477e-3daa-43d4-c6d1-17c1caaf96c2"
      },
      "source": [
        "tomas_aleatorias = generar_tomas_aleatorias()\n",
        "print(f'Actores participantes: {len(tomas_aleatorias[0])}')\n",
        "print(f'Numero de tomas: {len(tomas_aleatorias)}\\n')\n",
        "\n",
        "# Aplicar el algoritmo al juego de datos aleatorio\n",
        "get_tomas_planificadas(tomas_aleatorias)"
      ],
      "id": "JzDdPzQ8w6WE",
      "execution_count": 11,
      "outputs": [
        {
          "output_type": "stream",
          "text": [
            "Actores participantes: 13\n",
            "Numero de tomas: 7\n",
            "\n",
            "Tomas para la sesión del día 1: [6, 1, 2, 0, 4, 5]\n",
            "Costo del día 1: 13\n",
            "\n",
            "Tomas para la sesión del día 2: [3]\n",
            "Costo del día 2: 7\n",
            "\n",
            "El costo total sera: 20\n"
          ],
          "name": "stdout"
        }
      ]
    },
    {
      "cell_type": "markdown",
      "metadata": {
        "id": "PLbG2LvgzWiw"
      },
      "source": [
        "## **Enumera las referencias que has utilizado(si ha sido necesario) para llevar a cabo el trabajo**\n",
        "\n",
        "- **Fractional Knapsack problem** (https://afteracademy.com/blog/fractional-knapsack-problem)\n",
        "\n",
        "- **Fractional Knapsack Problem: Greedy algorithm with Example** (Fhttps://www.guru99.com/fractional-knapsack-problem-greedy.html)"
      ],
      "id": "PLbG2LvgzWiw"
    },
    {
      "cell_type": "markdown",
      "metadata": {
        "id": "StoYTDmKzdxn"
      },
      "source": [
        "## **Describe brevemente las lineas de como crees que es posible avanzar en el estudio del problema. Ten en cuenta incluso posibles variaciones del problema y/o variaciones al alza del tamaño**\n",
        "\n",
        "Desde mi punto de vista, este tipo de problemas en donde es necesaria la optimización, podrían ser candidatos a ser resuletos usando Algoritmos Genéticos. La idea general de como podría ser abordado este problema, sería la de calcular la primera mejor solución que optimice el costo parcial. Una vez que ya hayamos obtenido la primera solución, podemos utilizarla para calcular las siguientes soluciones iterativamente eligiendo siempre la más optima a través de una función objetivo. \n",
        "\n",
        "La primera mejor solución serían los padres y en este sentido, utilizariamos las mejores tomas para criar nuevas agrupaciones. El proceso terminaría cuando hayamos encontrado una solución en la que el costo sea el mínimo o en otro caso, hasta que hayamos encontrado un número fijo de generaciones.\n",
        "\n"
      ],
      "id": "StoYTDmKzdxn"
    }
  ]
}