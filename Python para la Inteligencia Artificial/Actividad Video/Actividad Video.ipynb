{
 "cells": [
  {
   "cell_type": "code",
   "execution_count": 1,
   "id": "497308b9",
   "metadata": {},
   "outputs": [
    {
     "data": {
      "text/html": [
       "<div>\n",
       "<style scoped>\n",
       "    .dataframe tbody tr th:only-of-type {\n",
       "        vertical-align: middle;\n",
       "    }\n",
       "\n",
       "    .dataframe tbody tr th {\n",
       "        vertical-align: top;\n",
       "    }\n",
       "\n",
       "    .dataframe thead th {\n",
       "        text-align: right;\n",
       "    }\n",
       "</style>\n",
       "<table border=\"1\" class=\"dataframe\">\n",
       "  <thead>\n",
       "    <tr style=\"text-align: right;\">\n",
       "      <th></th>\n",
       "      <th>station</th>\n",
       "      <th>total</th>\n",
       "      <th>download_date</th>\n",
       "      <th>available</th>\n",
       "    </tr>\n",
       "  </thead>\n",
       "  <tbody>\n",
       "    <tr>\n",
       "      <th>0</th>\n",
       "      <td>64</td>\n",
       "      <td>20</td>\n",
       "      <td>2019-02-10 17:25:37.787</td>\n",
       "      <td>9</td>\n",
       "    </tr>\n",
       "    <tr>\n",
       "      <th>1</th>\n",
       "      <td>73</td>\n",
       "      <td>20</td>\n",
       "      <td>2019-02-10 17:25:37.787</td>\n",
       "      <td>6</td>\n",
       "    </tr>\n",
       "    <tr>\n",
       "      <th>2</th>\n",
       "      <td>63</td>\n",
       "      <td>20</td>\n",
       "      <td>2019-02-10 18:13:39.827</td>\n",
       "      <td>20</td>\n",
       "    </tr>\n",
       "    <tr>\n",
       "      <th>3</th>\n",
       "      <td>64</td>\n",
       "      <td>20</td>\n",
       "      <td>2019-02-10 18:13:39.827</td>\n",
       "      <td>6</td>\n",
       "    </tr>\n",
       "    <tr>\n",
       "      <th>4</th>\n",
       "      <td>65</td>\n",
       "      <td>19</td>\n",
       "      <td>2019-02-10 18:13:39.827</td>\n",
       "      <td>9</td>\n",
       "    </tr>\n",
       "  </tbody>\n",
       "</table>\n",
       "</div>"
      ],
      "text/plain": [
       "   station  total            download_date  available\n",
       "0       64     20  2019-02-10 17:25:37.787          9\n",
       "1       73     20  2019-02-10 17:25:37.787          6\n",
       "2       63     20  2019-02-10 18:13:39.827         20\n",
       "3       64     20  2019-02-10 18:13:39.827          6\n",
       "4       65     19  2019-02-10 18:13:39.827          9"
      ]
     },
     "metadata": {},
     "output_type": "display_data"
    },
    {
     "data": {
      "text/html": [
       "<div>\n",
       "<style scoped>\n",
       "    .dataframe tbody tr th:only-of-type {\n",
       "        vertical-align: middle;\n",
       "    }\n",
       "\n",
       "    .dataframe tbody tr th {\n",
       "        vertical-align: top;\n",
       "    }\n",
       "\n",
       "    .dataframe thead th {\n",
       "        text-align: right;\n",
       "    }\n",
       "</style>\n",
       "<table border=\"1\" class=\"dataframe\">\n",
       "  <thead>\n",
       "    <tr style=\"text-align: right;\">\n",
       "      <th></th>\n",
       "      <th>station</th>\n",
       "      <th>total</th>\n",
       "      <th>download_date</th>\n",
       "      <th>available</th>\n",
       "    </tr>\n",
       "  </thead>\n",
       "  <tbody>\n",
       "    <tr>\n",
       "      <th>27542</th>\n",
       "      <td>260</td>\n",
       "      <td>20</td>\n",
       "      <td>2019-02-11 23:44:00.786</td>\n",
       "      <td>0</td>\n",
       "    </tr>\n",
       "    <tr>\n",
       "      <th>27543</th>\n",
       "      <td>261</td>\n",
       "      <td>19</td>\n",
       "      <td>2019-02-11 23:44:00.786</td>\n",
       "      <td>15</td>\n",
       "    </tr>\n",
       "    <tr>\n",
       "      <th>27544</th>\n",
       "      <td>268</td>\n",
       "      <td>10</td>\n",
       "      <td>2019-02-11 23:44:00.786</td>\n",
       "      <td>1</td>\n",
       "    </tr>\n",
       "    <tr>\n",
       "      <th>27545</th>\n",
       "      <td>269</td>\n",
       "      <td>15</td>\n",
       "      <td>2019-02-11 23:44:00.786</td>\n",
       "      <td>1</td>\n",
       "    </tr>\n",
       "    <tr>\n",
       "      <th>27546</th>\n",
       "      <td>276</td>\n",
       "      <td>20</td>\n",
       "      <td>2019-02-11 23:44:00.786</td>\n",
       "      <td>8</td>\n",
       "    </tr>\n",
       "  </tbody>\n",
       "</table>\n",
       "</div>"
      ],
      "text/plain": [
       "       station  total            download_date  available\n",
       "27542      260     20  2019-02-11 23:44:00.786          0\n",
       "27543      261     19  2019-02-11 23:44:00.786         15\n",
       "27544      268     10  2019-02-11 23:44:00.786          1\n",
       "27545      269     15  2019-02-11 23:44:00.786          1\n",
       "27546      276     20  2019-02-11 23:44:00.786          8"
      ]
     },
     "metadata": {},
     "output_type": "display_data"
    },
    {
     "data": {
      "text/plain": [
       "station           int64\n",
       "total             int64\n",
       "download_date    object\n",
       "available         int64\n",
       "dtype: object"
      ]
     },
     "metadata": {},
     "output_type": "display_data"
    }
   ],
   "source": [
    "import pandas as pd\n",
    "import numpy as np\n",
    "import matplotlib.pyplot as plt\n",
    "import matplotlib.dates as mdates\n",
    "import os\n",
    "\n",
    "# 1. Carga de datos\n",
    "route = 'res' + os.sep + 'estaciones_bici.csv'\n",
    "bicis = pd.read_csv(route, sep = ';', index_col= 0, engine= \"python\")\n",
    "\n",
    "bicis.head()\n",
    "bicis = bicis[['station', 'total', 'download_date', 'available']]\n",
    "\n",
    "display(bicis.head())\n",
    "display(bicis.tail())\n",
    "display(bicis.dtypes)"
   ]
  },
  {
   "cell_type": "code",
   "execution_count": 2,
   "id": "a1ae152c",
   "metadata": {},
   "outputs": [
    {
     "name": "stdout",
     "output_type": "stream",
     "text": [
      "estaciones que tienen 30 bornetas disponibles: 11\n"
     ]
    }
   ],
   "source": [
    "# 2. Obtención del número de estaciones que tienen 30 bornetas disponibles\n",
    "bornetas_disponibles = bicis[bicis['total'] == 30].groupby(['station'])\n",
    "print(f'estaciones que tienen 30 bornetas disponibles: {len(bornetas_disponibles)}')"
   ]
  },
  {
   "cell_type": "code",
   "execution_count": 3,
   "id": "0d389112",
   "metadata": {},
   "outputs": [
    {
     "data": {
      "text/html": [
       "<div>\n",
       "<style scoped>\n",
       "    .dataframe tbody tr th:only-of-type {\n",
       "        vertical-align: middle;\n",
       "    }\n",
       "\n",
       "    .dataframe tbody tr th {\n",
       "        vertical-align: top;\n",
       "    }\n",
       "\n",
       "    .dataframe thead th {\n",
       "        text-align: right;\n",
       "    }\n",
       "</style>\n",
       "<table border=\"1\" class=\"dataframe\">\n",
       "  <thead>\n",
       "    <tr style=\"text-align: right;\">\n",
       "      <th></th>\n",
       "      <th>station</th>\n",
       "      <th>media bicis disponibles</th>\n",
       "    </tr>\n",
       "  </thead>\n",
       "  <tbody>\n",
       "    <tr>\n",
       "      <th>0</th>\n",
       "      <td>1</td>\n",
       "      <td>12.04</td>\n",
       "    </tr>\n",
       "    <tr>\n",
       "      <th>1</th>\n",
       "      <td>2</td>\n",
       "      <td>2.07</td>\n",
       "    </tr>\n",
       "    <tr>\n",
       "      <th>2</th>\n",
       "      <td>3</td>\n",
       "      <td>3.30</td>\n",
       "    </tr>\n",
       "    <tr>\n",
       "      <th>3</th>\n",
       "      <td>4</td>\n",
       "      <td>3.10</td>\n",
       "    </tr>\n",
       "    <tr>\n",
       "      <th>4</th>\n",
       "      <td>5</td>\n",
       "      <td>8.73</td>\n",
       "    </tr>\n",
       "  </tbody>\n",
       "</table>\n",
       "</div>"
      ],
      "text/plain": [
       "   station  media bicis disponibles\n",
       "0        1                    12.04\n",
       "1        2                     2.07\n",
       "2        3                     3.30\n",
       "3        4                     3.10\n",
       "4        5                     8.73"
      ]
     },
     "metadata": {},
     "output_type": "display_data"
    },
    {
     "name": "stdout",
     "output_type": "stream",
     "text": [
      "Estación con más media de bicis disponibles: 50.0\n",
      "Promedio de bicis disponible: 31.26\n"
     ]
    }
   ],
   "source": [
    "# 3. Número de estación con la media más alta de bicis disponibles\n",
    "station = set(bicis['station'])\n",
    "medias = []\n",
    "for element in station:\n",
    "    medias.append([element, bicis[bicis['station'] == element]['available'].mean()])\n",
    "\n",
    "medias_data = pd.DataFrame(medias, columns=['station', 'media bicis disponibles'])\n",
    "display(medias_data.head())\n",
    "\n",
    "estacion = medias_data[medias_data['media bicis disponibles'] == medias_data['media bicis disponibles'].max()]\n",
    "print(f'Estación con más media de bicis disponibles: {estacion.iloc[0][\"station\"]}')\n",
    "print(f'Promedio de bicis disponible: {estacion.iloc[0][\"media bicis disponibles\"]}')"
   ]
  },
  {
   "cell_type": "code",
   "execution_count": 4,
   "id": "ad574f23",
   "metadata": {},
   "outputs": [
    {
     "data": {
      "text/html": [
       "<div>\n",
       "<style scoped>\n",
       "    .dataframe tbody tr th:only-of-type {\n",
       "        vertical-align: middle;\n",
       "    }\n",
       "\n",
       "    .dataframe tbody tr th {\n",
       "        vertical-align: top;\n",
       "    }\n",
       "\n",
       "    .dataframe thead th {\n",
       "        text-align: right;\n",
       "    }\n",
       "</style>\n",
       "<table border=\"1\" class=\"dataframe\">\n",
       "  <thead>\n",
       "    <tr style=\"text-align: right;\">\n",
       "      <th></th>\n",
       "      <th>available</th>\n",
       "      <th>station</th>\n",
       "    </tr>\n",
       "  </thead>\n",
       "  <tbody>\n",
       "    <tr>\n",
       "      <th>0</th>\n",
       "      <td>26</td>\n",
       "      <td>2</td>\n",
       "    </tr>\n",
       "    <tr>\n",
       "      <th>1</th>\n",
       "      <td>27</td>\n",
       "      <td>21</td>\n",
       "    </tr>\n",
       "    <tr>\n",
       "      <th>2</th>\n",
       "      <td>28</td>\n",
       "      <td>12</td>\n",
       "    </tr>\n",
       "    <tr>\n",
       "      <th>3</th>\n",
       "      <td>29</td>\n",
       "      <td>4</td>\n",
       "    </tr>\n",
       "    <tr>\n",
       "      <th>4</th>\n",
       "      <td>30</td>\n",
       "      <td>2</td>\n",
       "    </tr>\n",
       "    <tr>\n",
       "      <th>5</th>\n",
       "      <td>31</td>\n",
       "      <td>5</td>\n",
       "    </tr>\n",
       "    <tr>\n",
       "      <th>6</th>\n",
       "      <td>32</td>\n",
       "      <td>14</td>\n",
       "    </tr>\n",
       "    <tr>\n",
       "      <th>7</th>\n",
       "      <td>33</td>\n",
       "      <td>18</td>\n",
       "    </tr>\n",
       "    <tr>\n",
       "      <th>8</th>\n",
       "      <td>34</td>\n",
       "      <td>9</td>\n",
       "    </tr>\n",
       "    <tr>\n",
       "      <th>9</th>\n",
       "      <td>35</td>\n",
       "      <td>2</td>\n",
       "    </tr>\n",
       "    <tr>\n",
       "      <th>10</th>\n",
       "      <td>36</td>\n",
       "      <td>3</td>\n",
       "    </tr>\n",
       "    <tr>\n",
       "      <th>11</th>\n",
       "      <td>37</td>\n",
       "      <td>1</td>\n",
       "    </tr>\n",
       "    <tr>\n",
       "      <th>12</th>\n",
       "      <td>39</td>\n",
       "      <td>3</td>\n",
       "    </tr>\n",
       "    <tr>\n",
       "      <th>13</th>\n",
       "      <td>40</td>\n",
       "      <td>4</td>\n",
       "    </tr>\n",
       "  </tbody>\n",
       "</table>\n",
       "</div>"
      ],
      "text/plain": [
       "    available  station\n",
       "0          26        2\n",
       "1          27       21\n",
       "2          28       12\n",
       "3          29        4\n",
       "4          30        2\n",
       "5          31        5\n",
       "6          32       14\n",
       "7          33       18\n",
       "8          34        9\n",
       "9          35        2\n",
       "10         36        3\n",
       "11         37        1\n",
       "12         39        3\n",
       "13         40        4"
      ]
     },
     "metadata": {},
     "output_type": "display_data"
    },
    {
     "data": {
      "image/png": "[encoded data removed]",
      "text/plain": [
       "<Figure size 432x288 with 1 Axes>"
      ]
     },
     "metadata": {
      "needs_background": "light"
     },
     "output_type": "display_data"
    }
   ],
   "source": [
    "# 4. Realizar el histograma de bicis disponibles de la estación del punto anterior\n",
    "estaciones = bicis[bicis['station'] == 50].reset_index()\n",
    "estaciones = estaciones[['station', 'available']]\n",
    "display(estaciones.groupby('available').count().reset_index())\n",
    "_ = estaciones.hist(bins=8, column='available')\n",
    "plt.title('Bicis disponibles de la estación 50')\n",
    "plt.show()"
   ]
  },
  {
   "cell_type": "code",
   "execution_count": 5,
   "id": "b9db804e",
   "metadata": {},
   "outputs": [
    {
     "data": {
      "text/html": [
       "<div>\n",
       "<style scoped>\n",
       "    .dataframe tbody tr th:only-of-type {\n",
       "        vertical-align: middle;\n",
       "    }\n",
       "\n",
       "    .dataframe tbody tr th {\n",
       "        vertical-align: top;\n",
       "    }\n",
       "\n",
       "    .dataframe thead th {\n",
       "        text-align: right;\n",
       "    }\n",
       "</style>\n",
       "<table border=\"1\" class=\"dataframe\">\n",
       "  <thead>\n",
       "    <tr style=\"text-align: right;\">\n",
       "      <th></th>\n",
       "      <th>download_date</th>\n",
       "      <th>available</th>\n",
       "    </tr>\n",
       "  </thead>\n",
       "  <tbody>\n",
       "    <tr>\n",
       "      <th>0</th>\n",
       "      <td>2019-02-10 18:13:39.827</td>\n",
       "      <td>39</td>\n",
       "    </tr>\n",
       "    <tr>\n",
       "      <th>1</th>\n",
       "      <td>2019-02-10 18:29:13.135</td>\n",
       "      <td>36</td>\n",
       "    </tr>\n",
       "    <tr>\n",
       "      <th>2</th>\n",
       "      <td>2019-02-10 18:44:43.728</td>\n",
       "      <td>33</td>\n",
       "    </tr>\n",
       "    <tr>\n",
       "      <th>3</th>\n",
       "      <td>2019-02-10 19:00:14.475</td>\n",
       "      <td>31</td>\n",
       "    </tr>\n",
       "    <tr>\n",
       "      <th>4</th>\n",
       "      <td>2019-02-10 19:15:48.800</td>\n",
       "      <td>33</td>\n",
       "    </tr>\n",
       "  </tbody>\n",
       "</table>\n",
       "</div>"
      ],
      "text/plain": [
       "            download_date  available\n",
       "0 2019-02-10 18:13:39.827         39\n",
       "1 2019-02-10 18:29:13.135         36\n",
       "2 2019-02-10 18:44:43.728         33\n",
       "3 2019-02-10 19:00:14.475         31\n",
       "4 2019-02-10 19:15:48.800         33"
      ]
     },
     "metadata": {},
     "output_type": "display_data"
    },
    {
     "data": {
      "text/plain": [
       "Text(0.5, 1.0, 'Bicis disponibles en la estación 50 por hora')"
      ]
     },
     "execution_count": 5,
     "metadata": {},
     "output_type": "execute_result"
    },
    {
     "data": {
      "image/png": "[encoded data removed]",
      "text/plain": [
       "<Figure size 432x288 with 1 Axes>"
      ]
     },
     "metadata": {
      "needs_background": "light"
     },
     "output_type": "display_data"
    }
   ],
   "source": [
    "# 5. Realizar gráfica con la línea temporal de bicis disponibles de la estación del punto anterior. \n",
    "# Pista, es necesario cambiar el índice a uno tipo fecha\n",
    "estaciones_fecha = bicis[bicis['station'] == 50].reset_index()\n",
    "estaciones_fecha = estaciones_fecha[['download_date', 'available']]\n",
    "estaciones_fecha['download_date'] = pd.to_datetime(estaciones_fecha['download_date'], format='%Y%m%d %H:%M:%S')\n",
    "display(estaciones_fecha.head())\n",
    "\n",
    "fig, ax = plt.subplots()\n",
    "ax.plot(estaciones_fecha[\"download_date\"], estaciones_fecha[\"available\"])\n",
    "formatter = mdates.DateFormatter('%H:%M')\n",
    "ax.xaxis.set_major_formatter(formatter)\n",
    "ax.xaxis.set_tick_params(rotation=45, labelsize=10)\n",
    "ax.set_title('Bicis disponibles en la estación 50 por hora')"
   ]
  },
  {
   "cell_type": "code",
   "execution_count": null,
   "id": "97676f23",
   "metadata": {},
   "outputs": [],
   "source": []
  }
 ],
 "metadata": {
  "kernelspec": {
   "display_name": "Python 3",
   "language": "python",
   "name": "python3"
  },
  "language_info": {
   "codemirror_mode": {
    "name": "ipython",
    "version": 3
   },
   "file_extension": ".py",
   "mimetype": "text/x-python",
   "name": "python",
   "nbconvert_exporter": "python",
   "pygments_lexer": "ipython3",
   "version": "3.8.5"
  }
 },
 "nbformat": 4,
 "nbformat_minor": 5
}
