{
 "cells": [
  {
   "cell_type": "markdown",
   "id": "6465e4d9",
   "metadata": {},
   "source": [
    "## 01MAR - Actividad Whitepapers"
   ]
  },
  {
   "cell_type": "markdown",
   "id": "956bcc3e",
   "metadata": {
    "slideshow": {
     "slide_type": "slide"
    }
   },
   "source": [
    "## Artículo 01 \n",
    "\n",
    "### The NumPy array: a structure for efficient numerical computation\n",
    "\n",
    "#### Actividad 01.01 - Ampliar dicha explicación, aportando posibles restricciones o limitaciones a dicho sistema y ejemplos propios de los casos de uso.\n",
    "\n",
    "Como ya se ha explicado en el el artículo, el mecanismo de Broadcasting es utilizado en la librería Numpy para hacer operaciones como la suma, resta y multiplicación de arrays de manera más óptima. Una breve explicación de lo que hace este mecanismo, es el de igualar las columnas y renglones de los arrays involucrados para así poder realizar las operaciones matemáticas. Veamos ahora cómo es que iguala ambos arreglos.\n",
    "\n",
    "Supongamos que tenemos los siguientes arrays:\n",
    "\n",
    "$$ A = \\begin{pmatrix} 0 & 1 & 2 \\\\ 0 & 1 & 2 \\\\ 0 & 1 & 2 \\end{pmatrix}$$\n",
    "\n",
    "$$ B = \\begin{pmatrix} 1 & 1 & 1 \\end{pmatrix}$$\n",
    "\n",
    "y queremos realizar la operación $A + B$, pues bien, con el mecanismo de Broadcasting expandimos el Array B para que sea igual al arreglo B y así poder realizar la operación, sin embargo, antes de proceder a realizar el Broadcasting, es necesario mencionar que existen tres reglas:\n",
    "\n",
    "**1.** Si los dos arrays difieren en sus dimensiones, el arreglo con una dimensión menor será llenado con unos de su lado izquierdo.\\\n",
    "**2.** Si el shape de ambos arrays difiere en cualquier dimensión, el array que tenga un shape de 1 será agrandado para igualar el shape del otro array.\\\n",
    "**3.** Si en cualquier dimensión el tamaño de los arrays difiere, y este tamaño es diferente a 1, será un error.\n",
    "\n",
    "Ahora, retomando el ejemplo anterior, veamos cómo se aplican estas reglas.\n",
    "\n",
    "**Shape del array A y B:**\n",
    "\n",
    "- A.shape = (3,3)\n",
    "- B.shape = (3,)\n",
    "\n",
    "**Regla 1: El array con una dimensión menor será llenado con 1´s a la izquierda:**\n",
    "\n",
    "- A.shape = (3,3)\n",
    "- B.shape = (1,3)\n",
    "\n",
    "**Regla 2: El array que tenga un shape diferente y que sea igual a 1 será agrandado para igualar los shapes de ambos arrays:**\n",
    "\n",
    "- A.shape = (3,3)\n",
    "- B.shape = (3,3)\n",
    "\n",
    "$$A + B = \\begin{pmatrix} 1 & 2 & 3 \\\\ 1 & 2 & 3 \\\\ 1 & 2 & 3 \\end{pmatrix}$$\n",
    "\n",
    "Es importante notar que habrá ocasiones donde será necesario expandir el array por la derecha y no por la izquierda, por ejemplo, tenemos los dos siguientes arrays:\n",
    "\n",
    "- A.shape = (3, 2)\n",
    "- B.shape = (3, )\n",
    "\n",
    "En este caso sería útil rellenar el shape de B con 1´s a la derecha, sin embargo esto podría causar ambigüedades además de que iría en contra la regla de solamente rellenar hacia la izquierda.\n",
    "\n",
    "#### Actividad 01.02 - Verificar la eficacia y mejora posible de rendimiento del uso de dicha técnica sobre ndarrays de tamaños grandes.\n",
    "\n",
    "Para entender por qué el uso del memory mapping resulta un beneficio en la mayoría de las veces, primero es importante dar una breve explicación sobre cómo se lee/escribe en la memoria.\n",
    "\n",
    "Supongamos que queremos leer por primera vez un archivo que se encuentra en nuestro disco duro. Lo que hará el Sistema Operativo será buscar en el disco el archivo y guardarlo en memoria además de guardar una copia en un buffer. Esto nos será de gran utilidad ya que si quisiéramos leer el mismo archivo una segunda vez, es mucho más rápido leer del buffer que del disco duro.\n",
    "\n",
    "Por otro lado, en caso de que quisiéramos escribir información hacia un archivo, al inicio esta información será almacenada solamente en un buffer, ya que como mencionamos anteriormente, las operaciones de lectura y escritura son más rápidas hacia un buffer. Eventualmente, se aplicará un flush y toda la información que se haya escrito hacia el buffer será movida hacia el disco.\n",
    "\n",
    "Una vez expuesta la introducción, vamos a comprobar por qué resulta más eficiente el uso del memory mapping en la práctica. Llevaremos a cabo un experimento. Inicializamos un primer Array de tamaño 250000 y lo guardaremos en disco. Después, crearemos un segundo Array, accederemos a ciertos espacios para modificar su contenido y lo guardaremos en disco. Determinaremos las mejoras en eficiencia comparando el tiempo de ejecución usando la librería memmap y no usandola."
   ]
  },
  {
   "cell_type": "code",
   "execution_count": 56,
   "id": "1e657faf",
   "metadata": {
    "scrolled": false
   },
   "outputs": [
    {
     "name": "stdout",
     "output_type": "stream",
     "text": [
      "Tiempo de ejecución usando la librería memmap ---------> 0.015625\n",
      "Tiempo de ejecución sin usar la librería memmap -------> 0.125\n"
     ]
    }
   ],
   "source": [
    "import mmap\n",
    "import os.path as path\n",
    "import numpy as np\n",
    "from time import process_time\n",
    "from tempfile import mkdtemp\n",
    "\n",
    "filename = path.join(mkdtemp(), 'newfile.dat')\n",
    "\n",
    "# Experimento 1\n",
    "# Start the counter \n",
    "t1_start = process_time()\n",
    "# Creamos Array de tamaño 90000 \n",
    "a = np.memmap(filename, mode=\"write\", shape=(500, 500), dtype=np.int)\n",
    "a.flat = np.arange(500* 500)\n",
    "# Guardamos el Array en Memoria\n",
    "a.flush()\n",
    "\n",
    "b = np.memmap(filename, mode='r+', shape=(500, 500), dtype=np.int)\n",
    "b[100, :] *= 2\n",
    "b.flush()\n",
    "\n",
    "# Stop the counter\n",
    "t1_stop = process_time()\n",
    "\n",
    "print(f'Tiempo de ejecución usando la librería memmap ---------> {t1_stop - t1_start}')\n",
    "\n",
    "\n",
    "# Experimento 2\n",
    "# Start the counter \n",
    "t3_start = process_time()\n",
    "a_2 = []\n",
    "for i in range(250000):\n",
    "    a_2.append(i)\n",
    "\n",
    "b_2 = []\n",
    "for i in range(250000):\n",
    "    if i >= 100000 and i < 100999:\n",
    "        b_2.append(i*2)\n",
    "    else:\n",
    "        b_2.append(i)\n",
    "\n",
    "# Stop the stopwatch counter\n",
    "t4_stop = process_time()\n",
    "\n",
    "print(f'Tiempo de ejecución sin usar la librería memmap -------> {t4_stop - t3_start}')"
   ]
  },
  {
   "cell_type": "markdown",
   "id": "205fdf75",
   "metadata": {},
   "source": [
    "Podemos observar en todas las repeticiones del experimento que el tiempo de ejecución haciendo uso de la librería memmap es menor que cuando no la usamos, concluyendo que es más eficiente manipular partes de un ndarray de gran tamaño con la librería memmap. Uno de los factores que ayuda en la eficiencia es el uso del método flush con el cual podemos indicar cuándo hacer la escritura a disco ahorrando así tiempo. Sin embargo, es importante señalar que estos beneficios se observaron solamente con ndarrays de tamaño muy grande, ya que para pequeños ndarrays la diferencia en tiempo es insignificante cómo para llegar a una conclusión."
   ]
  },
  {
   "cell_type": "markdown",
   "id": "d063dfdc",
   "metadata": {},
   "source": [
    "## Artículo 02\n",
    "\n",
    "### Data Structures for Statistical Computing in Python\n",
    "\n",
    "#### Actividad 02.01 - Desarrollar una opinión razonada del estado actual de las herramientas de análisis de datos estadísticos en contraposición a como se muestran en el artículo, R vs Python vs SQL vs Others..."
   ]
  },
  {
   "cell_type": "markdown",
   "id": "2d9de9ee",
   "metadata": {},
   "source": [
    "Haciendo un breve resúmen sobre algunas de las principales herramientas, podemos decir lo siguiente:\n",
    "\n",
    "- **Python**: lenguaje de programación traducido que es open source y contiene múltiples librerías para el análisis de datos como Pandas y Numpy además de tener múltiples usos como el desarrollo web, de escritorio, visión computacional, etc.\n",
    "- **R**: lenguaje de programación open source que es utilizado básicamente para el análisis de datos.\n",
    "- **MatLab**: lenguaje de programación con licencia, utilizando para realizar operaciones numéricas.\n",
    "- **SQL**: lenguaje de programación utilizado para realizar querys o consultas y recuperar y administrar información de un sistema de bases de datos relacionales.\n",
    "\n",
    "Aunque estas herramientas no representan la totalidad pues existen otras como Excel, Julia, SAS y muchas más, podríamos decir que son las más populares entre los empleadores y/o personas que se dedican al análisis de datos. El siguiente gráfico nos muestra la popularidad de los diferentes lenguajes de programación en los anuncios de trabajo\n",
    "\n",
    "![title](programming_languages.png)\n",
    "\n",
    "Tomando en cuenta las ventajas y desventajas de cada una de las herramientas anteriormente listadas, en mi opinión, Python tiene una ligera ventaja sobre los demás lenguajes de programación, sin embargo, esto no quiere decir que sea mejor, simplemente considero que tiene ciertas ventajas que lo hacen más versátil.\n",
    "\n",
    "Como mencione anteriormente, considero que Python es el lenguaje más versátil y fácil de aprender, ya que tiene una sintaxis muy simple a comparación de otros como C++ o Java donde no involucra aspectos como el punto y coma, apuntadores, Templates, etc. Por ejemplo:\n",
    "\n",
    "- **Hello World en Python**\\\n",
    "print(\"Hello World!\")\n",
    "\n",
    "- **Hello world en C++**\\\n",
    "    using namespace std;\\\n",
    "    #include\\<iostream>\\\n",
    "    int main(){\n",
    "        cout << \"Hello World!\" << endl;\n",
    "        return 0;\n",
    "    }\n",
    "\n",
    "Cómo podemos ver, para hacer un Hello World, en Python solamente necesitamos de una línea de código, mientras que en C++ ocupamos de más líneas y sintaxis.\n",
    "\n",
    "Ya que Python es open source, tiene una comunidad muy grande que constantemente brinda apoyo y mantenimiento, por lo que es fácil encontrar foros, documentos o librerías que resuelvan casi cualquier necesidad. Algunos ejemplos de ello son Cython, Pandas, Numpy, MatplotLib, etc. A comparación de Python, MatLab por ejemplo es un lenguaje de programación que no es open source, por lo que sus recursos son más limitados.\n",
    "\n",
    "Ahora, comparando Python con R, ambos son open source, sin embargo, R es un lenguaje que se encuentra más orientado a personas que quieren realizar análisis de datos y trabajar directamente con modelos matemáticos, ecuaciones y fórmulas. Por otro lado, Python es un lenguaje que ofrece una mayor variedad de opciones para trabajar con los datos y el programador tiene que tomar decisiones como el tipo del objeto que usará, cómo leer el dataset, donde guardar la información, etc.\n",
    "\n",
    "Es cierto que una de las desventajas de Python comparado con R, es que en Python tenemos que instalar manualmente la mayoría de librerías usadas en el análisis de datos como Pandas y numpy, sin embargo existen soluciones como Anaconda donde se instalan todas estas librerías automáticamente.\n",
    "    \n",
    "Cómo mencione anteriormente, considero que Python es el lenguaje de programación más versátil, ya que podemos hacer tanto desarrollo web, como de escritorio, análisis de datos, computer vision, etc. por lo tanto, desde mi punto de vista, Python es el mejor lenguaje para aquellos que deseen aprender a programar y no tengan conocimientos previos, ya que podrán ver conceptos como Programación Orientada a Objetos, Funciones, Recursividad, Estructuras de Datos, Algoritmos, etc. además de tener a la mano poderosas herramientas de análisis de datos como Pandas. \n",
    "\n",
    "Si bien R es una herramienta más poderosa para aquellos que trabajan con modelos y análisis matemáticos intensos, creo que librerías como Pandas y Numpy ofrecen cosas muy interesantes que facilitan el trabajo sin dejar de lado la facilidad y versatilidad de Python. "
   ]
  },
  {
   "cell_type": "markdown",
   "id": "fbf8ccca",
   "metadata": {},
   "source": [
    "## Referencias\n",
    "\n",
    "- https://jakevdp.github.io/PythonDataScienceHandbook/02.05-computation-on-arrays-broadcasting.html\n",
    "- http://personal.cimat.mx:8181/~mrivera/cursos/python/broadcasting/broadcasting.html\n",
    "- https://realpython.com/python-mmap/\n",
    "- https://pythonspeed.com/articles/mmap-vs-zarr-hdf5/\n",
    "- https://numpy.org/doc/stable/reference/generated/numpy.memmap.html\n",
    "- http://www.jds-online.com/files/150%E5%AE%8C%E6%88%90V.pdf\n",
    "- https://towardsdatascience.com/team-r-or-team-python-2f8cf04310e6"
   ]
  }
 ],
 "metadata": {
  "kernelspec": {
   "display_name": "Python 3",
   "language": "python",
   "name": "python3"
  },
  "language_info": {
   "codemirror_mode": {
    "name": "ipython",
    "version": 3
   },
   "file_extension": ".py",
   "mimetype": "text/x-python",
   "name": "python",
   "nbconvert_exporter": "python",
   "pygments_lexer": "ipython3",
   "version": "3.8.5"
  }
 },
 "nbformat": 4,
 "nbformat_minor": 5
}
