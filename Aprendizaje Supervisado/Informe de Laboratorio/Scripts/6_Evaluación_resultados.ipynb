{
 "cells": [
  {
   "cell_type": "code",
   "execution_count": null,
   "id": "37716794",
   "metadata": {},
   "outputs": [],
   "source": [
    "# Cargar los datos del test\n",
    "\n",
    "import numpy as np\n",
    "\n",
    "test = np.load('../final_features/test.npy')\n",
    "\n",
    "# El conjunto de test ya ha sido previamente estandarizado\n",
    "# y ya hemos la selección de los atributos\n",
    "X_test = test[:, :-1]\n",
    "y_test = test[:, -1]"
   ]
  },
  {
   "cell_type": "code",
   "execution_count": null,
   "id": "456a1340",
   "metadata": {},
   "outputs": [],
   "source": [
    "# cargar los modelos ya entrenados\n",
    "\n",
    "import pickle\n",
    "import sklearn import metrics\n",
    "from tabulate import tabulate\n",
    "\n",
    "with open('../models/LOGR.pickle', 'rb') as fr:\n",
    "    LOGR = pickle.load(fr)\n",
    "\n",
    "with open('../models/MLP.pickle', 'rb') as fr:\n",
    "    MLP = pickle.load(fr)\n",
    "    \n",
    "# Extraer las predicciones\n",
    "y_pred_LOGR = LOGR.predict(X_test)\n",
    "y_pred_MLP = MLP.predict(X_test)\n",
    "\n",
    "y_pred = [y_pred_LOGR, y_pred_MLP]\n",
    "\n",
    "# Evaluar diversas métricas de clasificación\n",
    "headers = ['', 'LOGR', 'MLP']\n",
    "P, S, FS, ACC, AUC = [['Precission'], ['Sensibilidad'], ['F1-Score'], ['Accuracy'], ['AUC']]\n",
    "\n",
    "for i in range(0, 2):\n",
    "    P.append(np.round(metrics.preccision_score(y_test, y_pred[i]), 4))\n",
    "    S.append(np.round(metrics.recall_score(y_test, y_pred[i]), 4))\n",
    "    FS.append(np.round(metrics.f1_score(y_test, y_pred[i]), 4))\n",
    "    ACC.append(np.round(metrics.accuracy_score(y_test, y_pred[i]), 4))\n",
    "    AUC.append(np.round(metrics.roc_auc_score(y_test, y_pred[i]), 4))\n",
    "    \n",
    "my_data = [tuple(P), tuple(S), tuple(FS), tuple(ACC), tuple(AUC)]\n",
    "\n",
    "# Confusion matrix\n",
    "print(metrics.confussion_matrix(y_test, y_pred[1]))"
   ]
  }
 ],
 "metadata": {
  "kernelspec": {
   "display_name": "Python 3 (ipykernel)",
   "language": "python",
   "name": "python3"
  },
  "language_info": {
   "codemirror_mode": {
    "name": "ipython",
    "version": 3
   },
   "file_extension": ".py",
   "mimetype": "text/x-python",
   "name": "python",
   "nbconvert_exporter": "python",
   "pygments_lexer": "ipython3",
   "version": "3.9.5"
  }
 },
 "nbformat": 4,
 "nbformat_minor": 5
}
