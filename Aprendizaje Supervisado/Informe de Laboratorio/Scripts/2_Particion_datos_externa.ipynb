{
 "cells": [
  {
   "cell_type": "code",
   "execution_count": null,
   "id": "5f771c89",
   "metadata": {},
   "outputs": [],
   "source": [
    "# Primero leemos el dcumento csv \n",
    "\n",
    "import pandas as pd\n",
    "import numpy as np\n",
    "\n",
    "# Leer la información del documento Excel original\n",
    "\n",
    "dataFrame = pd.read_csv('../Material/Database.csv', sep=';')"
   ]
  },
  {
   "cell_type": "code",
   "execution_count": null,
   "id": "7ef08398",
   "metadata": {},
   "outputs": [],
   "source": [
    "# Partición externa 80% - 20% de los datos\n",
    "from sklearn.model_selection import train_test_split, KFold\n",
    "\n",
    "# Partición externa tipo hold out 80% - 20% \n",
    "# train, test = train_test_split(dataFrame, test_size=0.2, shuffle=True, random_state=42)\n",
    "\n",
    "# Partición externa tipo validación cruzada\n",
    "kf = KFold(n_splits=5, shuffle=True, random_state=42)\n",
    "bolsas = kf.split(dataFrame)\n",
    "\n",
    "for k, (train_fold, test_fold) in enumerate(bolsas):\n",
    "    train = dataFrame.iloc[train_fold]\n",
    "    test = dataFrame.iloc[test_fold]"
   ]
  },
  {
   "cell_type": "code",
   "execution_count": null,
   "id": "d108c080",
   "metadata": {},
   "outputs": [],
   "source": [
    "# Podemos hacer mas robusta nuestra partición desordenando los dataframes\n",
    "\n",
    "train = train.sample(frac=1)\n",
    "test = test.sample(frac=1)"
   ]
  },
  {
   "cell_type": "code",
   "execution_count": null,
   "id": "5e3ba05c",
   "metadata": {},
   "outputs": [],
   "source": [
    "# Por ultimo, guardamos nuestras particiones para no tener que estar llamado constantemente\n",
    "# el dataFrame original\n",
    "\n",
    "# Guardar los modelos\n",
    "\n",
    "import os\n",
    "\n",
    "if not os.path.exists('partitions'):\n",
    "    os.mkdir('../partitions')\n",
    "\n",
    "train.to_csv('../partitions/train.csv', sep=';')\n",
    "test.to_csv('../partitions/test.csv', sep=';')"
   ]
  }
 ],
 "metadata": {
  "kernelspec": {
   "display_name": "Python 3 (ipykernel)",
   "language": "python",
   "name": "python3"
  },
  "language_info": {
   "codemirror_mode": {
    "name": "ipython",
    "version": 3
   },
   "file_extension": ".py",
   "mimetype": "text/x-python",
   "name": "python",
   "nbconvert_exporter": "python",
   "pygments_lexer": "ipython3",
   "version": "3.9.5"
  }
 },
 "nbformat": 4,
 "nbformat_minor": 5
}
