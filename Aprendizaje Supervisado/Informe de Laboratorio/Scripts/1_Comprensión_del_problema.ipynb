{
 "cells": [
  {
   "cell_type": "code",
   "execution_count": null,
   "id": "fddec782",
   "metadata": {},
   "outputs": [],
   "source": [
    "# En primer lugar leemos la información del documento Excel\n",
    "\n",
    "# Libreria util para trabajar con dataframes\n",
    "import pandas as pd\n",
    "\n",
    "dataFrame = pd.read_csv('../Material/Database.csv', sep=';')"
   ]
  },
  {
   "cell_type": "code",
   "execution_count": null,
   "id": "8f1d65c5",
   "metadata": {},
   "outputs": [],
   "source": [
    "# Extraer información de interés\n",
    "import numpy as np\n",
    "\n",
    "classes, frec = np.unique(dataFrame.Class, return_counts=True)\n",
    "# Si se diera el caso de que nuestro conjunto de datos no estuviera balanceado\n",
    "# tendríamos que aplicar alguna técnica de balanceo"
   ]
  },
  {
   "cell_type": "code",
   "execution_count": null,
   "id": "20d6347e",
   "metadata": {},
   "outputs": [],
   "source": [
    "# Seleccionar una muestra aleatoria de nuestra base de datos\n",
    "import random\n",
    "import cv2\n",
    "import matplotlib.pyplot as plt\n",
    "\n",
    "# Escogemos un numero aleatorio entre 0 y la longitud del dataframe\n",
    "num = random.randint(0, len(dataFrame))\n",
    "\n",
    "name_img = dataFrame.ID[num]\n",
    "\n",
    "img = cv2.imread('../Material/Images/' + name_img)\n",
    "\n",
    "plt.imshow(img, cmap='gray')\n",
    "plt.show()"
   ]
  },
  {
   "cell_type": "code",
   "execution_count": null,
   "id": "04c6f91f",
   "metadata": {},
   "outputs": [],
   "source": [
    "# Para entender un poquito más el problema, podemos cargar tambien las mascaras de la retina y de la RNFL\n",
    "# y hacer un plot sobre la imagen para ver las regiones de interes\n",
    "\n",
    "# Leemos las máscaras y ploteamos los contornos sobre la imagen original\n",
    "\n",
    "# Le ponemos un 0 para trabajar con una imagenes en escala de grises. De otra manera la deblovería en \n",
    "# formato BGR\n",
    "rnfl_mask = cv2.imread('../Material/RNFL_masks/' + name_img, 0)\n",
    "retina_mask = cv2.imread('../Material/Retina_masks/' + name_img, 0)\n",
    "\n",
    "# Encontramos los contornos\n",
    "cont_rnfl, _ = cv2.findContours(rnfl_mask, cv2.RETR_TREE, cv2.CHAIN_APPROX_SIMPLE)\n",
    "cont_retina, _ = cv2.findContours(retina_mask, cv2.RETR_TREE, cv2.CHAIN_APPROX_SIMPLE)\n",
    "\n",
    "# Dibujamos sobre la imagen original los contornos de las mascaras \n",
    "image = cv2.drawContours(img.copy(), cont_rnfl, -1, (255, 0, 0), 3)\n",
    "image = cv2.drawContours(image.copy(), cont_retina, -1, (0, 255, 0), 3)\n",
    "\n",
    "plt.imshow(image, cmap='gray')\n",
    "plt.show()"
   ]
  }
 ],
 "metadata": {
  "kernelspec": {
   "display_name": "Python 3 (ipykernel)",
   "language": "python",
   "name": "python3"
  },
  "language_info": {
   "codemirror_mode": {
    "name": "ipython",
    "version": 3
   },
   "file_extension": ".py",
   "mimetype": "text/x-python",
   "name": "python",
   "nbconvert_exporter": "python",
   "pygments_lexer": "ipython3",
   "version": "3.9.5"
  }
 },
 "nbformat": 4,
 "nbformat_minor": 5
}
