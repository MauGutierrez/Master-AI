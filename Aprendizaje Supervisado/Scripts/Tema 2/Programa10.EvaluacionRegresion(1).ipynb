{
 "cells": [
  {
   "cell_type": "code",
   "execution_count": null,
   "metadata": {},
   "outputs": [],
   "source": [
    "import numpy as np\n",
    "from math import sqrt\n",
    "from pprint import pprint\n",
    "from sklearn import datasets\n",
    "from sklearn.dummy import DummyRegressor\n",
    "from sklearn.model_selection import cross_validate\n",
    "from sklearn.model_selection import KFold\n",
    "from sklearn.metrics import make_scorer\n",
    "from sklearn.metrics import mean_squared_error\n",
    "from sklearn.model_selection import train_test_split"
   ]
  },
  {
   "cell_type": "code",
   "execution_count": null,
   "metadata": {},
   "outputs": [],
   "source": [
    "# Carga de datos.\n",
    "datos = datasets.load_boston()\n",
    "# pprint(datos)\n",
    "print(np.shape(datos.data))"
   ]
  },
  {
   "cell_type": "code",
   "execution_count": null,
   "metadata": {},
   "outputs": [],
   "source": [
    "# Test: hold-out split 80-20%.\n",
    "X_train, X_test, y_train, y_test = train_test_split(datos.data, datos.target, test_size=0.2, random_state=42)\n",
    "print(np.shape(X_train))\n",
    "print(np.shape(X_test))"
   ]
  },
  {
   "cell_type": "code",
   "execution_count": null,
   "metadata": {},
   "outputs": [],
   "source": [
    "# Algoritmo de aprendizaje.\n",
    "reg = DummyRegressor()"
   ]
  },
  {
   "cell_type": "code",
   "execution_count": null,
   "metadata": {},
   "outputs": [],
   "source": [
    "# Métricas de evaluación.\n",
    "metricas = {\n",
    "  'MAE': 'neg_mean_absolute_error',\n",
    "  'RMSE': make_scorer(\n",
    "          lambda y, y_pred:\n",
    "            sqrt(mean_squared_error(y, y_pred)),\n",
    "            greater_is_better=False),\n",
    "  'MAPE': make_scorer(\n",
    "          lambda y, y_pred:\n",
    "            np.mean(np.abs((y - y_pred) / y)) * 100,\n",
    "            greater_is_better=False)}"
   ]
  },
  {
   "cell_type": "code",
   "execution_count": null,
   "metadata": {},
   "outputs": [],
   "source": [
    "# Validación y evaluación del modelo.\n",
    "evaluacion = cross_validate(reg, X_train, y_train,\n",
    "                cv = KFold(n_splits=5), scoring = metricas)"
   ]
  },
  {
   "cell_type": "code",
   "execution_count": null,
   "metadata": {},
   "outputs": [],
   "source": [
    "# Presentación de los resultados de la evaluación.\n",
    "pprint(evaluacion)"
   ]
  }
 ],
 "metadata": {
  "kernelspec": {
   "display_name": "Python 3",
   "language": "python",
   "name": "python3"
  },
  "language_info": {
   "codemirror_mode": {
    "name": "ipython",
    "version": 3
   },
   "file_extension": ".py",
   "mimetype": "text/x-python",
   "name": "python",
   "nbconvert_exporter": "python",
   "pygments_lexer": "ipython3",
   "version": "3.8.5"
  }
 },
 "nbformat": 4,
 "nbformat_minor": 2
}
