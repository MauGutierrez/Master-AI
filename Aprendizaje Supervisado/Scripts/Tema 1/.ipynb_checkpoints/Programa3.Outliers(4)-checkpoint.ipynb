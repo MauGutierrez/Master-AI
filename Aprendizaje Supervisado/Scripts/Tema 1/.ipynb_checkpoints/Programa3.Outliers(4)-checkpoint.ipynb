{
 "cells": [
  {
   "cell_type": "code",
   "execution_count": null,
   "metadata": {},
   "outputs": [],
   "source": [
    "import pandas as pd\n",
    "import numpy as np\n",
    "from scipy import stats\n",
    "from sklearn.covariance import EllipticEnvelope\n",
    "from limpieza_funciones import grafico_outliers"
   ]
  },
  {
   "cell_type": "code",
   "execution_count": null,
   "metadata": {},
   "outputs": [],
   "source": [
    "# Carga de datos.\n",
    "df = pd.read_csv(\"outliers.csv\")"
   ]
  },
  {
   "cell_type": "code",
   "execution_count": null,
   "metadata": {},
   "outputs": [],
   "source": [
    "# Limpieza de datos: detección de outliers.\n",
    "outlier_method = EllipticEnvelope().fit(df)\n",
    "scores_pred = outlier_method.decision_function(df)\n",
    "print(scores_pred)"
   ]
  },
  {
   "cell_type": "code",
   "execution_count": null,
   "metadata": {},
   "outputs": [],
   "source": [
    "Q1 = stats.scoreatpercentile(scores_pred, 25)\n",
    "Q3 = stats.scoreatpercentile(scores_pred, 75)\n",
    "RIC = Q3 - Q1\n",
    "li = Q1 - 1.5*RIC\n",
    "ls = Q3 + 1.5*RIC\n",
    "\n",
    "print('limite inferior: ', li)\n",
    "print('limite superior: ', ls)"
   ]
  },
  {
   "cell_type": "code",
   "execution_count": null,
   "metadata": {},
   "outputs": [],
   "source": [
    "# Estimación de outliers\n",
    "pos_i = np.where(scores_pred<li)\n",
    "pos_s = np.where(scores_pred>ls)\n",
    "print('Posición de outliers en el extremno inferior: ', pos_i)\n",
    "print('Posición de outliers en el extremno superior: ', pos_s)"
   ]
  },
  {
   "cell_type": "code",
   "execution_count": null,
   "metadata": {},
   "outputs": [],
   "source": [
    "# Matriz de outliers\n",
    "mask_outliers = np.ones(np.shape(scores_pred))\n",
    "mask_outliers[pos_i] = 0\n",
    "mask_outliers[pos_s] = 0\n",
    "print(mask_outliers)"
   ]
  },
  {
   "cell_type": "code",
   "execution_count": null,
   "metadata": {},
   "outputs": [],
   "source": [
    "valores, ocurrencias = np.unique(mask_outliers==1, return_counts=True)\n",
    "print(valores, ocurrencias)"
   ]
  },
  {
   "cell_type": "code",
   "execution_count": null,
   "metadata": {},
   "outputs": [],
   "source": [
    "# Dibujar gráfica de outliers.\n",
    "threshold = stats.scoreatpercentile(scores_pred, 25)\n",
    "grafico_outliers(df, outlier_method, 150, threshold, -7, 7)"
   ]
  }
 ],
 "metadata": {
  "kernelspec": {
   "display_name": "Python 3",
   "language": "python",
   "name": "python3"
  },
  "language_info": {
   "codemirror_mode": {
    "name": "ipython",
    "version": 3
   },
   "file_extension": ".py",
   "mimetype": "text/x-python",
   "name": "python",
   "nbconvert_exporter": "python",
   "pygments_lexer": "ipython3",
   "version": "3.9.5"
  }
 },
 "nbformat": 4,
 "nbformat_minor": 2
}
