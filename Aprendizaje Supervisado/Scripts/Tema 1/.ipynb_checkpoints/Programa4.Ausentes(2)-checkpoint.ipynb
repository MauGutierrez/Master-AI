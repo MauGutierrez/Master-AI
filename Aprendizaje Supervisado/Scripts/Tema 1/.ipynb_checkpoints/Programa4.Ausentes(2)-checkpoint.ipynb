{
 "cells": [
  {
   "cell_type": "code",
   "execution_count": null,
   "metadata": {},
   "outputs": [],
   "source": [
    "import numpy as np\n",
    "from sklearn.impute import SimpleImputer"
   ]
  },
  {
   "cell_type": "code",
   "execution_count": null,
   "metadata": {},
   "outputs": [],
   "source": [
    "# Carga de datos.\n",
    "a = [[1,      2], \n",
    "     [np.nan, 3], \n",
    "     [7,      6]]"
   ]
  },
  {
   "cell_type": "code",
   "execution_count": null,
   "metadata": {},
   "outputs": [],
   "source": [
    "# Limpieza de datos: imputación valores ausentes (modelo).\n",
    "imp = SimpleImputer(strategy='mean')\n",
    "imp.fit(a)\n",
    "\n",
    "# aa = imp.transform(a)\n",
    "# print(aa)"
   ]
  },
  {
   "cell_type": "code",
   "execution_count": null,
   "metadata": {},
   "outputs": [],
   "source": [
    "# Limpieza de datos: imputación valores ausentes (aplicación).\n",
    "b = [[np.nan, 10], \n",
    "     [6,      np.nan], \n",
    "     [8,      1]]\n",
    "print(imp.transform(b))"
   ]
  }
 ],
 "metadata": {
  "kernelspec": {
   "display_name": "Python 3 (ipykernel)",
   "language": "python",
   "name": "python3"
  },
  "language_info": {
   "codemirror_mode": {
    "name": "ipython",
    "version": 3
   },
   "file_extension": ".py",
   "mimetype": "text/x-python",
   "name": "python",
   "nbconvert_exporter": "python",
   "pygments_lexer": "ipython3",
   "version": "3.9.5"
  }
 },
 "nbformat": 4,
 "nbformat_minor": 4
}
