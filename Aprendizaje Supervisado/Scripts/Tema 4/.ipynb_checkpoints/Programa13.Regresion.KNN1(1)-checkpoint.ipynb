{
 "cells": [
  {
   "cell_type": "code",
   "execution_count": null,
   "metadata": {},
   "outputs": [],
   "source": [
    "import numpy as np\n",
    "from math import sqrt\n",
    "from sklearn import datasets\n",
    "import sklearn.metrics as metrics\n",
    "from sklearn.model_selection import KFold\n",
    "from sklearn.model_selection import cross_val_predict\n",
    "from sklearn.neighbors import KNeighborsRegressor\n",
    "from evaluacion_funciones import * # pip install graphviz"
   ]
  },
  {
   "cell_type": "code",
   "execution_count": null,
   "metadata": {},
   "outputs": [],
   "source": [
    "# Carga de datos.\n",
    "dataset = datasets.load_boston()\n",
    "X = dataset.data\n",
    "y = dataset.target\n",
    "print(np.shape(X))"
   ]
  },
  {
   "cell_type": "code",
   "execution_count": null,
   "metadata": {},
   "outputs": [],
   "source": [
    "# Métricas de evaluación.\n",
    "metricas = {\n",
    "  'MAE': metrics.mean_absolute_error,\n",
    "  'RMSE': lambda y, y_pred:\n",
    "          sqrt(metrics.mean_squared_error(y, y_pred)),\n",
    "  'MAPE': lambda y, y_pred:\n",
    "          np.mean(np.abs((y - y_pred) / y)) * 100,\n",
    "  'R2': metrics.r2_score}"
   ]
  },
  {
   "cell_type": "code",
   "execution_count": null,
   "metadata": {},
   "outputs": [],
   "source": [
    "# Algoritmos de aprendizaje.\n",
    "k = 10\n",
    "reg = KNeighborsRegressor(n_neighbors = k)"
   ]
  },
  {
   "cell_type": "code",
   "execution_count": null,
   "metadata": {},
   "outputs": [],
   "source": [
    "# Validación y obtención de las predicciones del modelo.\n",
    "y_pred = cross_val_predict(reg, X, y, cv = KFold(n_splits=10, random_state=42))"
   ]
  },
  {
   "cell_type": "code",
   "execution_count": null,
   "metadata": {},
   "outputs": [],
   "source": [
    "# Evaluación y presentación de resultados.\n",
    "results = evaluacion(y, y_pred, metricas)\n",
    "grafica_real_vs_pred(y, y_pred, results, \"KNN\"+str(k))"
   ]
  }
 ],
 "metadata": {
  "kernelspec": {
   "display_name": "Python 3 (ipykernel)",
   "language": "python",
   "name": "python3"
  },
  "language_info": {
   "codemirror_mode": {
    "name": "ipython",
    "version": 3
   },
   "file_extension": ".py",
   "mimetype": "text/x-python",
   "name": "python",
   "nbconvert_exporter": "python",
   "pygments_lexer": "ipython3",
   "version": "3.9.5"
  }
 },
 "nbformat": 4,
 "nbformat_minor": 2
}
